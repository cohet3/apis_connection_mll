{
 "cells": [
  {
   "cell_type": "code",
   "execution_count": null,
   "metadata": {},
   "outputs": [
    {
     "name": "stdout",
     "output_type": "stream",
     "text": [
      "¡Bienvenido al chatbot de frases célebres con superpoderes de GPT!\n",
      "\n",
      "Chatbot: \"No hay nada en el mundo tan irresistiblemente contagioso como la risa y la buena humor.\" - Charles Dickens\n",
      "Chatbot: ¡Hola! ¿En qué puedo ayudarte hoy?\n",
      "Chatbot: ¡Hola! ¿En qué puedo ayudarte hoy? Si necesitas una frase célebre, aquí tienes una: \"La única manera de hacer un gran trabajo es amar lo que haces.\" - Steve Jobs\n",
      "Chatbot: ¡Hola! ¿En qué puedo ayudarte hoy? Si necesitas una frase célebre, solo dímelo y con gusto te la proporcionaré.\n"
     ]
    }
   ],
   "source": [
    "# Importamos las funciones desde functions.py\n",
    "from functions import obtener_respuesta_gpt\n",
    "\n",
    "# Mensaje de bienvenida\n",
    "print(\"¡Bienvenido al chatbot de frases célebres con superpoderes de GPT!\\n\")\n",
    "\n",
    "# Iniciamos un bucle para simular una conversación con el chatbot\n",
    "while True:\n",
    "    # Recibir el mensaje del usuario\n",
    "    mensaje_usuario = input(\"Tú: \")\n",
    "\n",
    "    # Si el usuario escribe 'salir', termina la conversación\n",
    "    if mensaje_usuario.lower() == 'salir':\n",
    "        print(\"Chatbot: ¡Adiós! Que tengas un día inspirador.\")\n",
    "        break\n",
    "\n",
    "    # Obtener respuesta de GPT con una frase célebre\n",
    "    respuesta = obtener_respuesta_gpt(mensaje_usuario)\n",
    "\n",
    "    # Mostrar la respuesta del chatbot\n",
    "    print(f\"Chatbot: {respuesta}\")\n"
   ]
  }
 ],
 "metadata": {
  "kernelspec": {
   "display_name": "Python 3",
   "language": "python",
   "name": "python3"
  },
  "language_info": {
   "codemirror_mode": {
    "name": "ipython",
    "version": 3
   },
   "file_extension": ".py",
   "mimetype": "text/x-python",
   "name": "python",
   "nbconvert_exporter": "python",
   "pygments_lexer": "ipython3",
   "version": "3.12.0"
  }
 },
 "nbformat": 4,
 "nbformat_minor": 2
}
